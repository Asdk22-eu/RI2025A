{
  "nbformat": 4,
  "nbformat_minor": 0,
  "metadata": {
    "colab": {
      "provenance": [],
      "authorship_tag": "ABX9TyO/Fq+JoP7JqlE9ZN1JM6ZI",
      "include_colab_link": true
    },
    "kernelspec": {
      "name": "python3",
      "display_name": "Python 3"
    },
    "language_info": {
      "name": "python"
    }
  },
  "cells": [
    {
      "cell_type": "markdown",
      "metadata": {
        "id": "view-in-github",
        "colab_type": "text"
      },
      "source": [
        "<a href=\"https://colab.research.google.com/github/Asdk22-eu/RI2025A/blob/main/Ejercicio_4_Modelo_Probabil%C3%ADstico.ipynb\" target=\"_parent\"><img src=\"https://colab.research.google.com/assets/colab-badge.svg\" alt=\"Open In Colab\"/></a>"
      ]
    },
    {
      "cell_type": "markdown",
      "source": [
        "#Ejercicio 4: Modelo Probabilístico\n",
        "##Objetivo de la práctica\n",
        "* Comprender los componentes del modelo vectorial mediante cálculos manuales y observación directa.\n",
        "* Aplicar el modelo de espacio vectorial con TF-IDF para recuperar documentos relevantes.\n",
        "* Comparar la recuperación con BM25 frente a TF-IDF.\n",
        "* Analizar visualmente las diferencias entre los modelos.\n",
        "* Evaluar si los rankings generados son consistentes con lo que considerarías documentos relevantes."
      ],
      "metadata": {
        "id": "bKbs_UsrtBdD"
      }
    },
    {
      "cell_type": "markdown",
      "source": [
        "#Parte 0: Carga del Corpus\n",
        "\n",
        "\n"
      ],
      "metadata": {
        "id": "BfHhjNaqtS0Z"
      }
    },
    {
      "cell_type": "code",
      "execution_count": 1,
      "metadata": {
        "id": "8S2z9QyNn2nm"
      },
      "outputs": [],
      "source": [
        "from sklearn.datasets import fetch_20newsgroups\n",
        "newsgroups = fetch_20newsgroups(subset='all', remove=('headers', 'footers', 'quotes'))\n",
        "newsgroupsdocs = newsgroups.data"
      ]
    },
    {
      "cell_type": "markdown",
      "source": [
        "#Parte 1: Cálculo de TF, DF, IDF y TF-IDF\n",
        "##Actividad\n",
        "1. Utiliza el corpus cargado.\n",
        "2. Construye la matriz de términos (TF), y calcula la frecuencia de documentos (DF)\n",
        "3. Calcula TF-IDF utilizando sklearn.\n",
        "4. Visualiza los valores en un DataFrame para analizar las diferencias entre los términos."
      ],
      "metadata": {
        "id": "D2KhU9rsu30W"
      }
    },
    {
      "cell_type": "code",
      "source": [
        "import pandas as pd\n",
        "import numpy as np\n",
        "from sklearn.feature_extraction.text import CountVectorizer,TfidfVectorizer"
      ],
      "metadata": {
        "id": "RifpfHwDveZj"
      },
      "execution_count": 28,
      "outputs": []
    },
    {
      "cell_type": "code",
      "source": [
        "#1. Usar el corpus cargado newsgroupsdocs\n",
        "corpus= newsgroupsdocs\n",
        "#2. Construir la matriz TF\n",
        "# Inicializamos el vectorizador.\n",
        "count_vect = CountVectorizer()\n",
        "# Ajusta el vectorizador y transforma el corpus con fit transform.\n",
        "X_tf = count_vect.fit_transform(corpus)\n",
        "terms = count_vect.get_feature_names_out()\n",
        "# Para calcular DF\n",
        "#df_counts = (X_counts > 0).sum(axis=0)\n",
        "df_values = (X_tf > 0).sum(axis=0).A1\n",
        "\n",
        "#3. Calcular TF-IDF con sklearn\n",
        "tfidf_vect = TfidfVectorizer()\n",
        "X_tfidf = tfidf_vect.fit_transform(corpus)\n",
        "\n",
        "#4. Visualizar los valores en un DataFrame\n",
        "# Crear DataFrame con información completa\n",
        "n_docs = len(corpus)\n",
        "idf_values = np.log(n_docs / df_values)"
      ],
      "metadata": {
        "id": "LLD7ylgU3cr7"
      },
      "execution_count": 41,
      "outputs": []
    },
    {
      "cell_type": "code",
      "source": [
        "# DataFrame con las métricas que desarrollamos y queremos evaluar\n",
        "metrics_df = pd.DataFrame({\n",
        "    'Term': terms,\n",
        "    'DF': df_values,\n",
        "    'IDF': idf_values\n",
        "}).sort_values('DF', ascending=False)\n",
        "\n",
        "print(\"Data en DataFrame\")\n",
        "print(f\"Total de documentos: {n_docs}\")\n",
        "print(f\"Vocabulario: {len(terms)} términos\")\n",
        "print(f\"Matriz TF-IDF: {X_tfidf.shape}\")\n",
        "\n",
        "#Print de ejemplo con 10 términos para diferenciar los términos\n",
        "print(\"\\n TOP 10 TÉRMINOS POR FRECUENCIA DE DOCUMENTOS\")\n",
        "print(metrics_df.head(10))\n",
        "\n",
        "print(\"\\n TÉRMINOS CON MAYOR PESO IDF o menos frecuentes \")\n",
        "print(metrics_df.sort_values('IDF', ascending=False).head(10))"
      ],
      "metadata": {
        "colab": {
          "base_uri": "https://localhost:8080/"
        },
        "id": "rq9d-H_CLGUY",
        "outputId": "77ef9a0d-fc84-481e-d203-0335caefbe1f"
      },
      "execution_count": 33,
      "outputs": [
        {
          "output_type": "stream",
          "name": "stdout",
          "text": [
            "Data en DataFrame\n",
            "Total de documentos: 18846\n",
            "Vocabulario: 134410 términos\n",
            "Matriz TF-IDF: (18846, 134410)\n",
            "\n",
            " TOP 10 TÉRMINOS POR FRECUENCIA DE DOCUMENTOS\n",
            "        Term     DF       IDF\n",
            "116790   the  15749  0.179524\n",
            "117905    to  14108  0.289559\n",
            "25260    and  12991  0.372044\n",
            "89588     of  12809  0.386153\n",
            "65467     in  11842  0.464648\n",
            "67604     is  11685  0.477995\n",
            "67837     it  11029  0.535773\n",
            "116771  that  10974  0.540772\n",
            "54442    for  10406  0.593918\n",
            "60784   have   8722  0.770452\n",
            "\n",
            " TÉRMINOS CON MAYOR PESO IDF o menos frecuentes \n",
            "                Term  DF       IDF\n",
            "134377    zyxel1496b   1  9.844056\n",
            "134379         zz20d   1  9.844056\n",
            "134380           zz3   1  9.844056\n",
            "134381         zz5co   1  9.844056\n",
            "134382  zz93sigmc120   1  9.844056\n",
            "134385       zz_g9q3   1  9.844056\n",
            "134386          zzc6   1  9.844056\n",
            "134387         zzcrm   1  9.844056\n",
            "134388           zzd   1  9.844056\n",
            "134369         zysec   1  9.844056\n"
          ]
        }
      ]
    },
    {
      "cell_type": "markdown",
      "source": [
        "#Parte 2: Ranking de documentos usando TF-IDF\n",
        "##Actividad\n",
        "1. Dada una consulta, construye el vector de consulta\n",
        "2. Calcula la similitud coseno entre la consulta y cada documento usando los vectores TF-IDF\n",
        "3. Genera un ranking de los documentos ordenados por relevancia.\n",
        "4. Muestra los resultados en una tabla."
      ],
      "metadata": {
        "id": "4N1_5zVTOXNc"
      }
    },
    {
      "cell_type": "code",
      "source": [
        "from sklearn.metrics.pairwise import cosine_similarity"
      ],
      "metadata": {
        "id": "wDjHtQaK4RMc"
      },
      "execution_count": 34,
      "outputs": []
    },
    {
      "cell_type": "code",
      "source": [
        "#1. Definir consulta y construir vector de consulta, la consulta la tomé de la documentación de newsgroups\n",
        "query = \"The Cleveland Indians is a major league baseball team based in Cleveland, Ohio, USA.\"\n",
        "query_vec = tfidf_vect.transform([query])\n",
        "\n",
        "#2.Calcular similitud coseno entre consulta y todos los documentos con TF-IDF\n",
        "similarities = cosine_similarity(X_tfidf, query_vec).flatten()\n",
        "\n",
        "#3. Generar ranking con aquellos con similaridad >0 por eficiencia y relevancia\n",
        "relevant_indices = np.where(similarities > 0)[0]\n",
        "relevant_scores = similarities[relevant_indices]\n",
        "ranking_order = np.argsort(relevant_scores)[::-1]\n",
        "\n",
        "#4. Crear tabla de resultados con información útil\n",
        "ranking_df = pd.DataFrame({\n",
        "    'Rank': range(1, len(ranking_order) + 1),\n",
        "    'Doc_ID': relevant_indices[ranking_order],\n",
        "    'Similitud': relevant_scores[ranking_order],\n",
        "    'Contenido': [newsgroupsdocs[relevant_indices[i]][:120] + \"...\"\n",
        "                  for i in ranking_order]\n",
        "})\n",
        "# Información de la consulta\n",
        "query_terms = query.split()\n",
        "terms_in_vocab = sum(term in tfidf_vect.get_feature_names_out() for term in query_terms)\n",
        "\n",
        "print(\"INFORMACION DE LA QUERY \")\n",
        "print(f\"Query: '{query}'\")\n",
        "print(f\"Términos en vocabulario: {terms_in_vocab}/{len(query_terms)}\")\n",
        "print(f\"Documentos relevantes: {len(ranking_df)}/{len(newsgroupsdocs)}\")\n",
        "\n",
        "print(\"\\nTOP 5 DOCUMENTOS MÁS RELEVANTES \")\n",
        "print(ranking_df.head(5).to_string(index=False, max_colwidth=50))"
      ],
      "metadata": {
        "colab": {
          "base_uri": "https://localhost:8080/"
        },
        "id": "Yu_5-4e04_FA",
        "outputId": "327468f2-96c2-4375-e0a1-4436fd863b13"
      },
      "execution_count": 40,
      "outputs": [
        {
          "output_type": "stream",
          "name": "stdout",
          "text": [
            "INFORMACION DE LA QUERY \n",
            "Query: 'The Cleveland Indians is a major league baseball team based in Cleveland, Ohio, USA.'\n",
            "Términos en vocabulario: 7/14\n",
            "Documentos relevantes: 16922/18846\n",
            "\n",
            "TOP 5 DOCUMENTOS MÁS RELEVANTES \n",
            " Rank  Doc_ID  Similitud                                          Contenido\n",
            "    1   14601   0.338758 They \\nthree \\nmore \\ndivision.\\n\\nJason, I am ...\n",
            "    2   11262   0.292419 \\nWasn't there an 85,000 New York at Cleveland ...\n",
            "    3   18430   0.259176 \\n\\nThe tribe will be in town from April 16 to ...\n",
            "    4   12470   0.231564 \\n\\nWhat about U. Johnny Hodapp, the greatest 2...\n",
            "    5    8788   0.229178 Article 10886 of alt.radio.scanner:\\nPath: usen...\n"
          ]
        }
      ]
    },
    {
      "cell_type": "markdown",
      "source": [
        "#Parte 3: Ranking con BM25\n",
        "##Actividad\n",
        "1. Implementa un sistema de recuperación usando el modelo BM25.\n",
        "2. Usa la misma consulta del ejercicio anterior.\n",
        "3. Calcula el score BM25 para cada documento y genera un ranking.\n",
        "4. Compara manualmente con el ranking de TF-IDF."
      ],
      "metadata": {
        "id": "GbhPYpND5dzj"
      }
    },
    {
      "cell_type": "code",
      "source": [
        "!pip install rank_bm25"
      ],
      "metadata": {
        "colab": {
          "base_uri": "https://localhost:8080/"
        },
        "id": "_4nhBwvgUtHa",
        "outputId": "5d2ca1cd-8d47-4488-d91b-fb0439d33198"
      },
      "execution_count": 42,
      "outputs": [
        {
          "output_type": "stream",
          "name": "stdout",
          "text": [
            "Requirement already satisfied: rank_bm25 in /usr/local/lib/python3.11/dist-packages (0.2.2)\n",
            "Requirement already satisfied: numpy in /usr/local/lib/python3.11/dist-packages (from rank_bm25) (2.0.2)\n"
          ]
        }
      ]
    },
    {
      "cell_type": "code",
      "source": [
        "import nltk\n",
        "from nltk.tokenize import word_tokenize\n",
        "from rank_bm25 import BM25Okapi\n",
        "nltk.download('punkt')\n",
        "nltk.download('punkt_tab')"
      ],
      "metadata": {
        "colab": {
          "base_uri": "https://localhost:8080/"
        },
        "id": "zqWehaTx5e2x",
        "outputId": "8831ae99-c38d-4c1c-ddf7-b81a8a7e8a95"
      },
      "execution_count": 44,
      "outputs": [
        {
          "output_type": "stream",
          "name": "stderr",
          "text": [
            "[nltk_data] Downloading package punkt to /root/nltk_data...\n",
            "[nltk_data]   Package punkt is already up-to-date!\n",
            "[nltk_data] Downloading package punkt_tab to /root/nltk_data...\n",
            "[nltk_data]   Package punkt_tab is already up-to-date!\n"
          ]
        },
        {
          "output_type": "execute_result",
          "data": {
            "text/plain": [
              "True"
            ]
          },
          "metadata": {},
          "execution_count": 44
        }
      ]
    },
    {
      "cell_type": "code",
      "source": [
        "#1. Sistema de recuperación con BM25.\n",
        "#Para ello, hay que tokenizar.\n",
        "print(\"Tokenizar documentos\")\n",
        "tokenized_docs = [word_tokenize(doc.lower()) for doc in newsgroupsdocs]\n",
        "# Inicializar BM25 con la lista de documentos tokenizados.\n",
        "bm25 = BM25Okapi(tokenized_docs)"
      ],
      "metadata": {
        "colab": {
          "base_uri": "https://localhost:8080/"
        },
        "id": "pzdGRJZyU8bF",
        "outputId": "c38c4bb3-c202-4aa4-d814-231c83fec4d6"
      },
      "execution_count": 46,
      "outputs": [
        {
          "output_type": "stream",
          "name": "stdout",
          "text": [
            "Tokenizar documentos\n"
          ]
        }
      ]
    },
    {
      "cell_type": "code",
      "source": [
        "#2. Usamos la misma consulta del paso anterior.\n",
        "query = \"The Cleveland Indians is a major league baseball team based in Cleveland, Ohio, USA.\"\n",
        "\n",
        "# Tokenizamos la consulta\n",
        "tokenized_query = word_tokenize(query.lower())\n"
      ],
      "metadata": {
        "id": "MmKfIoEB6RdK"
      },
      "execution_count": 48,
      "outputs": []
    },
    {
      "cell_type": "code",
      "source": [
        "#3. Calcular scores BM25 y generar ranking\n",
        "bm25_scores = bm25.get_scores(tokenized_query)\n",
        "\n",
        "# Filtrar solo documentos relevantes (score > 0)\n",
        "relevant_indices = np.where(bm25_scores > 0)[0]\n",
        "relevant_scores = bm25_scores[relevant_indices]\n",
        "ranking_order = np.argsort(relevant_scores)[::-1]\n",
        "\n",
        "# Crear DataFrame de resultados\n",
        "bm25_ranking_df = pd.DataFrame({\n",
        "    'Rank': range(1, len(ranking_order) + 1),\n",
        "    'Doc_ID': relevant_indices[ranking_order],\n",
        "    'BM25_Score': relevant_scores[ranking_order],\n",
        "    'Contenido': [newsgroupsdocs[relevant_indices[i]][:120] + \"...\"\n",
        "                  for i in ranking_order]\n",
        "})\n",
        "\n",
        "print(\" RANKING BM25 \")\n",
        "print(f\"Consulta: '{query}'\")\n",
        "print(f\"Documentos relevantes: {len(bm25_ranking_df)}/{len(newsgroupsdocs)}\")\n",
        "print(\"\\nTop 5 documentos más relevantes:\")\n",
        "print(bm25_ranking_df.head(5).to_string(index=False, max_colwidth=50))\n"
      ],
      "metadata": {
        "colab": {
          "base_uri": "https://localhost:8080/"
        },
        "id": "kc9vrDV56Wyy",
        "outputId": "14ca91ae-c032-4614-86af-e046c3762053"
      },
      "execution_count": 55,
      "outputs": [
        {
          "output_type": "stream",
          "name": "stdout",
          "text": [
            " RANKING BM25 \n",
            "Consulta: 'The Cleveland Indians is a major league baseball team based in Cleveland, Ohio, USA.'\n",
            "Documentos relevantes: 18059/18846\n",
            "\n",
            "Top 5 documentos más relevantes:\n",
            " Rank  Doc_ID  BM25_Score                                          Contenido\n",
            "    1   17532   55.306055 Dale Hunter ties the game, scoring his third go...\n",
            "    2    6767   55.009827 Is there any doubt that this is true?  After a ...\n",
            "    3    4634   54.612031 Having run completely out of time, I've got to ...\n",
            "    4   12470   54.569864 \\n\\nWhat about U. Johnny Hodapp, the greatest 2...\n",
            "    5    1551   53.293443 Oh, yea, and Chris Bosio pitched a NO-HITTER.  ...\n"
          ]
        }
      ]
    },
    {
      "cell_type": "code",
      "source": [
        "#4: Comparación manual con TF-IDF (usando ranking_df)\n",
        "print(\"\\n COMPARACION BM25 vs TF-IDF \")\n",
        "print(\"Top 5 documentos - BM25:\")\n",
        "for i in range(min(5, len(bm25_ranking_df))):\n",
        "    doc_id = bm25_ranking_df.iloc[i]['Doc_ID']\n",
        "    score = bm25_ranking_df.iloc[i]['BM25_Score']\n",
        "    print(f\"  {i+1}. Doc {doc_id} - Score: {score:.4f}\")\n",
        "\n",
        "print(\"\\nTop 5 documentos - TF-IDF:\")\n",
        "for i in range(min(5, len(ranking_df))):\n",
        "    doc_id = ranking_df.iloc[i]['Doc_ID']\n",
        "    score = ranking_df.iloc[i]['Similitud']\n",
        "    print(f\"  {i+1}. Doc {doc_id} - Score: {score:.4f}\")\n"
      ],
      "metadata": {
        "colab": {
          "base_uri": "https://localhost:8080/"
        },
        "id": "cLuRBWn7Wewy",
        "outputId": "27f9f62c-d85b-4a74-c3d8-73321b3c2525"
      },
      "execution_count": 53,
      "outputs": [
        {
          "output_type": "stream",
          "name": "stdout",
          "text": [
            "\n",
            " COMPARACION BM25 vs TF-IDF \n",
            "Top 5 documentos - BM25:\n",
            "  1. Doc 17532 - Score: 55.3061\n",
            "  2. Doc 6767 - Score: 55.0098\n",
            "  3. Doc 4634 - Score: 54.6120\n",
            "  4. Doc 12470 - Score: 54.5699\n",
            "  5. Doc 1551 - Score: 53.2934\n",
            "\n",
            "Top 5 documentos - TF-IDF:\n",
            "  1. Doc 14601 - Score: 0.3388\n",
            "  2. Doc 11262 - Score: 0.2924\n",
            "  3. Doc 18430 - Score: 0.2592\n",
            "  4. Doc 12470 - Score: 0.2316\n",
            "  5. Doc 8788 - Score: 0.2292\n"
          ]
        }
      ]
    },
    {
      "cell_type": "markdown",
      "source": [
        "#PARTE 4\n",
        "##Actividad\n",
        "1. Utiliza un gráfico de barras para visualizar los scores obtenidos por cada documento según TF-IDF y BM25.\n",
        "2. Compara los rankings visualmente.\n",
        "3. Identifica: ¿Qué documentos obtienen scores más altos en un modelo que en otro?\n",
        "4. Sugiere: ¿A qué se podría deber esta diferencia?"
      ],
      "metadata": {
        "id": "7TZVe4D06xKz"
      }
    },
    {
      "cell_type": "code",
      "source": [
        "import matplotlib.pyplot as plt\n",
        "\n",
        "#Número de documentos a visualizar\n",
        "top_n = 10\n",
        "\n",
        "# Obtenemos los índices top de TF-IDF y BM25\n",
        "tfidf_top_docs = ranking_df.head(top_n)['Doc_ID'].values\n",
        "bm25_top_docs = bm25_ranking_df.head(top_n)['Doc_ID'].values\n",
        "\n",
        "union_docs = np.union1d(tfidf_top_docs, bm25_top_docs)\n",
        "\n",
        "# Obtener scores para estos documentos\n",
        "tfidf_scores_comparison = []\n",
        "bm25_scores_comparison = []\n",
        "for doc_id in union_docs:\n",
        "    # Score TF-IDF (similitud coseno)\n",
        "    tfidf_score = similarities[doc_id]\n",
        "    tfidf_scores_comparison.append(tfidf_score)\n",
        "\n",
        "    # Score BM25\n",
        "    bm25_score = bm25_scores[doc_id]\n",
        "    bm25_scores_comparison.append(bm25_score)\n",
        "\n",
        "# Crear DataFrame para análisis\n",
        "comparison_df = pd.DataFrame({\n",
        "    'Doc_ID': union_docs,\n",
        "    'TF-IDF_Score': tfidf_scores_comparison,\n",
        "    'BM25_Score': bm25_scores_comparison,\n",
        "    'TF-IDF_Rank': [np.where(ranking_df['Doc_ID'] == doc)[0][0] + 1\n",
        "                    if doc in ranking_df['Doc_ID'].values else len(ranking_df) + 1\n",
        "                    for doc in union_docs],\n",
        "    'BM25_Rank': [np.where(bm25_ranking_df['Doc_ID'] == doc)[0][0] + 1\n",
        "                  if doc in bm25_ranking_df['Doc_ID'].values else len(bm25_ranking_df) + 1\n",
        "                  for doc in union_docs]\n",
        "})\n",
        "\n",
        "# Calcular diferencia de rankings\n",
        "comparison_df['Rank_Diff'] = comparison_df['TF-IDF_Rank'] - comparison_df['BM25_Rank']\n",
        "comparison_df = comparison_df.sort_values('TF-IDF_Score', ascending=False)\n",
        "\n",
        "print(\" COMPARACION DETALLADA TF-IDF vs BM25 \")\n",
        "print(comparison_df.head(10))\n",
        "\n"
      ],
      "metadata": {
        "colab": {
          "base_uri": "https://localhost:8080/"
        },
        "id": "priGSvz36y7h",
        "outputId": "63fba382-a909-4153-d0ae-9a863e52df10"
      },
      "execution_count": 57,
      "outputs": [
        {
          "output_type": "stream",
          "name": "stdout",
          "text": [
            " COMPARACION DETALLADA TF-IDF vs BM25 \n",
            "    Doc_ID  TF-IDF_Score  BM25_Score  TF-IDF_Rank  BM25_Rank  Rank_Diff\n",
            "13   14601      0.338758   50.716819            1          9         -8\n",
            "10   11262      0.292419   27.847208            2       7305      -7303\n",
            "15   18430      0.259176   47.694914            3         17        -14\n",
            "11   12470      0.231564   54.569864            4          4          0\n",
            "3     2773      0.229178   52.167770            6          6          0\n",
            "9     8788      0.229178   52.167770            5          7         -2\n",
            "1     2366      0.186814   38.740439            7        198       -191\n",
            "4     2905      0.183818   36.211607            8        439       -431\n",
            "12   14337      0.180124   34.896576            9        739       -730\n",
            "8     6874      0.176815    7.758036           10      17399     -17389\n"
          ]
        }
      ]
    },
    {
      "cell_type": "code",
      "source": [
        "#  Visualización con gráfico de barras\n",
        "fig, (ax1, ax2) = plt.subplots(1, 2, figsize=(16, 6))\n",
        "\n",
        "# Gráfico : Comparación de scores\n",
        "x = np.arange(len(comparison_df))\n",
        "width = 0.35\n",
        "\n",
        "bars1 = ax1.bar(x - width/2, comparison_df['TF-IDF_Score'], width,\n",
        "                label='TF-IDF', alpha=0.8, color='skyblue')\n",
        "bars2 = ax1.bar(x + width/2, comparison_df['BM25_Score'], width,\n",
        "                label='BM25', alpha=0.8, color='lightcoral')\n",
        "\n",
        "ax1.set_xlabel('Documentos')\n",
        "ax1.set_ylabel('Score')\n",
        "ax1.set_title('Comparación de Scores: TF-IDF vs BM25')\n",
        "ax1.set_xticks(x[::2])  # Mostrar cada 2 etiquetas para evitar amontonamiento\n",
        "ax1.set_xticklabels(comparison_df['Doc_ID'].iloc[::2], rotation=45)\n",
        "ax1.legend()\n",
        "ax1.grid(True, alpha=0.3)\n",
        "# Gráfico 2: Scatter plot para correlación\n",
        "ax2.scatter(comparison_df['TF-IDF_Score'], comparison_df['BM25_Score'],\n",
        "           alpha=0.7, s=60, color='green')\n",
        "ax2.set_xlabel('TF-IDF Score')\n",
        "ax2.set_ylabel('BM25 Score')\n",
        "ax2.set_title('Correlación entre TF-IDF y BM25')\n",
        "ax2.grid(True, alpha=0.3)"
      ],
      "metadata": {
        "colab": {
          "base_uri": "https://localhost:8080/",
          "height": 592
        },
        "id": "V2FCb1x1Yr07",
        "outputId": "5b33af81-01da-47f1-bbca-905766c62046"
      },
      "execution_count": 64,
      "outputs": [
        {
          "output_type": "display_data",
          "data": {
            "text/plain": [
              "<Figure size 1600x600 with 2 Axes>"
            ],
            "image/png": "[encoded data removed]"
          },
          "metadata": {}
        }
      ]
    },
    {
      "cell_type": "markdown",
      "source": [
        "Según se observa, y según la teoría BM25 tiende a favorecer documentos más largos; que a su vez tienen más elementos o detalles y contienen muchas menciones de los términos de búsqueda, pero con una penalización controlada por saturación. Por otro lado, TF-IDF favorece documentos más concisos donde los términos de búsqueda tienen un peso relativo mayor debido a la menor longitud total del documento.\n",
        "\n",
        "Respecto a la pregunta 4 de esta Parte, las diferencias entre los scores de ambos modelos probabilísticos es que BM25 penaliza documentos largos de forma moderada, mientras que TF-IDF con normalización coseno puede penalizarlos más.\n",
        "Esto por el sustento teórico de ambos modelos probabilísticos donde BM25 usa un enfoque probabilístico basado en la relevancia, y TF-IDF emplea un modelo vectorial con similitud coseno, lo que genera interpretaciones distintas sobre la importancia de los términos."
      ],
      "metadata": {
        "id": "MwjfVbw7Zv2Y"
      }
    },
    {
      "cell_type": "markdown",
      "source": [
        "#Parte 5\n",
        "##Actividad\n",
        "1. Elige una consulta y define qué documentos del corpus deberían considerarse relevantes.\n",
        "2. Evalúa Precision@3 o MAP para los rankings generados con TF-IDF y BM25.\n",
        "3. Responde: ¿Cuál modelo da mejores resultados respecto a tu criterio de relevancia?"
      ],
      "metadata": {
        "id": "6mz5fMjQ7Cnf"
      }
    },
    {
      "cell_type": "code",
      "source": [
        "# Consulta definida\n",
        "\"The Cleveland Indians is a major league baseball team based in Cleveland, Ohio, USA.\"\n",
        "# Documentos considerados relevantes\n",
        "relevant_docs = {12, 47, 103}\n"
      ],
      "metadata": {
        "id": "X8r_ucFCHVV1"
      },
      "execution_count": 68,
      "outputs": []
    },
    {
      "cell_type": "code",
      "source": [
        "def precision_at_k(ranking, relevant_docs, k):\n",
        "    \"\"\"Calcula Precision@k dado un ranking (lista de índices) y un conjunto de documentos relevantes.\"\"\"\n",
        "    top_k = ranking[:k]\n",
        "    relevant_count = sum(1 for doc in top_k if doc in relevant_docs)\n",
        "    return relevant_count / k\n"
      ],
      "metadata": {
        "id": "FEixGDd8Hc2l"
      },
      "execution_count": 69,
      "outputs": []
    },
    {
      "cell_type": "code",
      "source": [
        "# Convertimos los rankings a listas si fuera necesario\n",
        "tfidf_ranking_list = ranking_indices.tolist()\n",
        "bm25_ranking_list = ranking_indices_bm25.tolist()\n",
        "\n",
        "precision_tfidf = precision_at_k(tfidf_ranking_list, relevant_docs, 3)\n",
        "precision_bm25  = precision_at_k(bm25_ranking_list, relevant_docs, 3)\n",
        "\n",
        "print(\"Precision@3 para TF-IDF:\", precision_tfidf)\n",
        "print(\"Precision@3 para BM25: \", precision_bm25)\n"
      ],
      "metadata": {
        "colab": {
          "base_uri": "https://localhost:8080/"
        },
        "id": "dVHcVHDpHfPS",
        "outputId": "562d3e2c-a802-4c01-c033-b277b73059eb"
      },
      "execution_count": 70,
      "outputs": [
        {
          "output_type": "stream",
          "name": "stdout",
          "text": [
            "Precision@3 para TF-IDF: 0.0\n",
            "Precision@3 para BM25:  0.0\n"
          ]
        }
      ]
    },
    {
      "cell_type": "markdown",
      "source": [
        "#Referencias usadas para desarrollar el ejercicio\n",
        "* https://scikit-learn.org/0.19/datasets/twenty_newsgroups.html\n",
        "* https://www.geeksforgeeks.org/understanding-tf-idf-term-frequency-inverse-document-frequency/\n",
        "* https://scikit-learn.org/stable/modules/generated/sklearn.metrics.pairwise.cosine_similarity.html\n",
        "* https://medium-com.translate.goog/@kushagramisra10/unlocking-the-power-of-bm25-why-its-outshining-tf-idf-in-the-world-of-search-152413392790?_x_tr_sl=en&_x_tr_tl=es&_x_tr_hl=es&_x_tr_pto=tc&_x_tr_hist=true"
      ],
      "metadata": {
        "id": "1KazDhiJPVAe"
      }
    }
  ]
}